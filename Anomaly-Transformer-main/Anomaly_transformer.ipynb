{
  "cells": [
    {
      "cell_type": "code",
      "execution_count": null,
      "metadata": {
        "colab": {
          "base_uri": "https://localhost:8080/"
        },
        "id": "m73ubQIjI7Sy",
        "outputId": "ecb3076a-feaf-4d9a-e1f2-5a3fd3a89dd9"
      },
      "outputs": [
        {
          "output_type": "stream",
          "name": "stdout",
          "text": [
            "fatal: destination path 'Anomaly-Transformer' already exists and is not an empty directory.\n"
          ]
        }
      ],
      "source": [
        "\n",
        "!git clone https://github.com/thuml/Anomaly-Transformer\n"
      ]
    },
    {
      "cell_type": "code",
      "execution_count": null,
      "metadata": {
        "colab": {
          "base_uri": "https://localhost:8080/"
        },
        "id": "cYlvxbEVjxKr",
        "outputId": "47768362-1b73-4f13-c152-01c55827bb26"
      },
      "outputs": [
        {
          "output_type": "stream",
          "name": "stdout",
          "text": [
            "Archive:  ./drive/MyDrive/new folder/Anomaly_Transformer/SMD.zip\n",
            "   creating: Anomaly-Transformer/dataset/SMD/\n",
            "  inflating: Anomaly-Transformer/dataset/SMD/SMD_test.npy  \n",
            "  inflating: Anomaly-Transformer/dataset/__MACOSX/SMD/._SMD_test.npy  \n",
            "  inflating: Anomaly-Transformer/dataset/SMD/SMD_test_label.pkl  \n",
            "  inflating: Anomaly-Transformer/dataset/__MACOSX/SMD/._SMD_test_label.pkl  \n",
            "  inflating: Anomaly-Transformer/dataset/SMD/SMD_train.npy  \n",
            "  inflating: Anomaly-Transformer/dataset/__MACOSX/SMD/._SMD_train.npy  \n",
            "  inflating: Anomaly-Transformer/dataset/SMD/SMD_test.pkl  \n",
            "  inflating: Anomaly-Transformer/dataset/__MACOSX/SMD/._SMD_test.pkl  \n",
            "  inflating: Anomaly-Transformer/dataset/SMD/SMD_test_label.npy  \n",
            "  inflating: Anomaly-Transformer/dataset/__MACOSX/SMD/._SMD_test_label.npy  \n",
            "  inflating: Anomaly-Transformer/dataset/SMD/SMD_train.pkl  \n",
            "  inflating: Anomaly-Transformer/dataset/__MACOSX/SMD/._SMD_train.pkl  \n"
          ]
        }
      ],
      "source": [
        "!unzip ./drive/MyDrive/new\\ folder/Anomaly_Transformer/SMD.zip -d Anomaly-Transformer/dataset"
      ]
    },
    {
      "cell_type": "code",
      "execution_count": null,
      "metadata": {
        "colab": {
          "base_uri": "https://localhost:8080/"
        },
        "id": "WOjbojyeJroU",
        "outputId": "dca61a84-2ba6-4a89-8fcc-a98505a607d3"
      },
      "outputs": [
        {
          "output_type": "stream",
          "name": "stdout",
          "text": [
            "------------ Options -------------\n",
            "anormly_ratio: 0.5\n",
            "batch_size: 256\n",
            "data_path: dataset/SMD\n",
            "dataset: SMD\n",
            "input_c: 38\n",
            "k: 3\n",
            "lr: 0.0001\n",
            "mode: train\n",
            "model_save_path: checkpoints\n",
            "num_epochs: 10\n",
            "output_c: 38\n",
            "pretrained_model: None\n",
            "win_size: 100\n",
            "-------------- End ----------------\n",
            "======================TRAIN MODE======================\n",
            "Epoch: 1 cost time: 19.875455856323242\n",
            "Epoch: 1, Steps: 28 | Train Loss: -21.5871899 Vali Loss: -22.7678776 \n",
            "Validation loss decreased (inf --> -22.767878).  Saving model ...\n",
            "Updating learning rate to 0.0001\n",
            "Epoch: 2 cost time: 17.649213075637817\n",
            "Epoch: 2, Steps: 28 | Train Loss: -32.1276189 Vali Loss: -39.8187081 \n",
            "EarlyStopping counter: 1 out of 3\n",
            "Updating learning rate to 5e-05\n",
            "Epoch: 3 cost time: 18.039453744888306\n",
            "Epoch: 3, Steps: 28 | Train Loss: -42.2135523 Vali Loss: -42.2107229 \n",
            "EarlyStopping counter: 2 out of 3\n",
            "Updating learning rate to 2.5e-05\n",
            "Epoch: 4 cost time: 18.44913125038147\n",
            "Epoch: 4, Steps: 28 | Train Loss: -43.5640609 Vali Loss: -42.8199470 \n",
            "EarlyStopping counter: 3 out of 3\n",
            "Early stopping\n",
            "------------ Options -------------\n",
            "anormly_ratio: 0.5\n",
            "batch_size: 256\n",
            "data_path: dataset/SMD\n",
            "dataset: SMD\n",
            "input_c: 38\n",
            "k: 3\n",
            "lr: 0.0001\n",
            "mode: test\n",
            "model_save_path: checkpoints\n",
            "num_epochs: 10\n",
            "output_c: 38\n",
            "pretrained_model: 20\n",
            "win_size: 100\n",
            "-------------- End ----------------\n",
            "/content/Anomaly-Transformer/solver.py:209: FutureWarning: You are using `torch.load` with `weights_only=False` (the current default value), which uses the default pickle module implicitly. It is possible to construct malicious pickle data which will execute arbitrary code during unpickling (See https://github.com/pytorch/pytorch/blob/main/SECURITY.md#untrusted-models for more details). In a future release, the default value for `weights_only` will be flipped to `True`. This limits the functions that could be executed during unpickling. Arbitrary objects will no longer be allowed to be loaded via this mode unless they are explicitly allowlisted by the user via `torch.serialization.add_safe_globals`. We recommend you start setting `weights_only=True` for any use case where you don't have full control of the loaded file. Please open an issue on GitHub for any issues related to this experimental feature.\n",
            "  torch.load(\n",
            "======================TEST MODE======================\n",
            "/usr/local/lib/python3.10/dist-packages/torch/nn/_reduction.py:51: UserWarning: size_average and reduce args will be deprecated, please use reduction='none' instead.\n",
            "  warnings.warn(warning.format(ret))\n",
            "Threshold : 0.1252768508344848\n",
            "pred:    (708400,)\n",
            "gt:      (708400,)\n",
            "pred:  (708400,)\n",
            "gt:    (708400,)\n",
            "Accuracy : 0.9914, Precision : 0.8861, Recall : 0.9108, F-score : 0.8983 \n"
          ]
        },
        {
          "output_type": "execute_result",
          "data": {
            "text/plain": []
          },
          "metadata": {},
          "execution_count": 3
        }
      ],
      "source": [
        "%%shell\n",
        "cd Anomaly-Transformer\n",
        "bash ./scripts/SMD.sh"
      ]
    },
    {
      "cell_type": "code",
      "execution_count": null,
      "metadata": {
        "id": "2k_VJeaOVXTD"
      },
      "outputs": [],
      "source": [
        "!unzip ./drive/MyDrive/new\\ folder/Anomaly_Transformer/MSL.zip -d Anomaly-Transformer/dataset"
      ]
    },
    {
      "cell_type": "code",
      "execution_count": null,
      "metadata": {
        "id": "1vvsgkVirPwF"
      },
      "outputs": [],
      "source": [
        "%%shell\n",
        "cd Anomaly-Transformer\n",
        "chmod +x ./scripts/MSL.sh\n",
        "\n"
      ]
    },
    {
      "cell_type": "code",
      "execution_count": null,
      "metadata": {
        "colab": {
          "base_uri": "https://localhost:8080/"
        },
        "id": "CVlhrhxqKt10",
        "outputId": "21f4f1b3-f016-466c-9c00-01090e6a5a75"
      },
      "outputs": [
        {
          "name": "stdout",
          "output_type": "stream",
          "text": [
            "Drive already mounted at /content/drive; to attempt to forcibly remount, call drive.mount(\"/content/drive\", force_remount=True).\n"
          ]
        }
      ],
      "source": [
        "from google.colab import drive\n",
        "drive.mount('/content/drive')"
      ]
    },
    {
      "cell_type": "code",
      "execution_count": null,
      "metadata": {
        "colab": {
          "base_uri": "https://localhost:8080/"
        },
        "id": "Qbw1ZnLHK0sF",
        "outputId": "f2ae2d98-d779-46d1-9a43-17c987f37821"
      },
      "outputs": [
        {
          "name": "stdout",
          "output_type": "stream",
          "text": [
            "Archive:  ./drive/MyDrive/new folder/Anomaly_Transformer/PSM.zip\n",
            "   creating: Anomaly-Transformer/dataset/PSM/\n",
            "  inflating: Anomaly-Transformer/dataset/PSM/test_label.csv  \n",
            "  inflating: Anomaly-Transformer/dataset/__MACOSX/PSM/._test_label.csv  \n",
            "  inflating: Anomaly-Transformer/dataset/PSM/test.csv  \n",
            "  inflating: Anomaly-Transformer/dataset/__MACOSX/PSM/._test.csv  \n",
            "  inflating: Anomaly-Transformer/dataset/PSM/train.csv  \n",
            "  inflating: Anomaly-Transformer/dataset/__MACOSX/PSM/._train.csv  \n"
          ]
        }
      ],
      "source": [
        "!unzip ./drive/MyDrive/new\\ folder/Anomaly_Transformer/PSM.zip -d Anomaly-Transformer/dataset"
      ]
    },
    {
      "cell_type": "code",
      "execution_count": null,
      "metadata": {
        "colab": {
          "base_uri": "https://localhost:8080/"
        },
        "id": "Xge43Lr9OEiU",
        "outputId": "737c4f59-b413-4979-b2f5-d023728e72d4"
      },
      "outputs": [
        {
          "name": "stdout",
          "output_type": "stream",
          "text": [
            "------------ Options -------------\n",
            "anormly_ratio: 1.0\n",
            "batch_size: 256\n",
            "data_path: dataset/PSM\n",
            "dataset: PSM\n",
            "input_c: 25\n",
            "k: 3\n",
            "lr: 0.0001\n",
            "mode: train\n",
            "model_save_path: checkpoints\n",
            "num_epochs: 3\n",
            "output_c: 25\n",
            "pretrained_model: None\n",
            "win_size: 100\n",
            "-------------- End ----------------\n",
            "test: (87841, 25)\n",
            "train: (132481, 25)\n",
            "test: (87841, 25)\n",
            "train: (132481, 25)\n",
            "test: (87841, 25)\n",
            "train: (132481, 25)\n",
            "test: (87841, 25)\n",
            "train: (132481, 25)\n",
            "======================TRAIN MODE======================\n",
            "\tspeed: 0.7061s/iter; left time: 1027.3918s\n",
            "\tspeed: 0.6925s/iter; left time: 938.3715s\n",
            "\tspeed: 0.6913s/iter; left time: 867.6122s\n",
            "\tspeed: 0.6892s/iter; left time: 796.0496s\n",
            "\tspeed: 0.6894s/iter; left time: 727.3535s\n",
            "Epoch: 1 cost time: 359.3501160144806\n",
            "Epoch: 1, Steps: 518 | Train Loss: -44.8928860 Vali Loss: -47.7722764 \n",
            "Validation loss decreased (inf --> -47.772276).  Saving model ...\n",
            "Updating learning rate to 0.0001\n",
            "\tspeed: 1.5191s/iter; left time: 1423.3963s\n",
            "\tspeed: 0.6887s/iter; left time: 576.4213s\n",
            "\tspeed: 0.6877s/iter; left time: 506.8560s\n",
            "\tspeed: 0.6859s/iter; left time: 436.9390s\n",
            "\tspeed: 0.6831s/iter; left time: 366.8205s\n",
            "Epoch: 2 cost time: 355.069566488266\n",
            "Epoch: 2, Steps: 518 | Train Loss: -48.1669599 Vali Loss: -48.2611635 \n",
            "EarlyStopping counter: 1 out of 3\n",
            "Updating learning rate to 5e-05\n",
            "\tspeed: 1.5098s/iter; left time: 632.5870s\n",
            "\tspeed: 0.6838s/iter; left time: 218.1411s\n",
            "\tspeed: 0.6830s/iter; left time: 149.5732s\n",
            "\tspeed: 0.6834s/iter; left time: 81.3288s\n",
            "\tspeed: 0.6827s/iter; left time: 12.9707s\n",
            "Epoch: 3 cost time: 353.40396761894226\n",
            "Epoch: 3, Steps: 518 | Train Loss: -48.5051692 Vali Loss: -48.5456423 \n",
            "EarlyStopping counter: 2 out of 3\n",
            "Updating learning rate to 2.5e-05\n",
            "------------ Options -------------\n",
            "anormly_ratio: 1.0\n",
            "batch_size: 256\n",
            "data_path: dataset/PSM\n",
            "dataset: PSM\n",
            "input_c: 25\n",
            "k: 3\n",
            "lr: 0.0001\n",
            "mode: test\n",
            "model_save_path: checkpoints\n",
            "num_epochs: 10\n",
            "output_c: 25\n",
            "pretrained_model: 20\n",
            "win_size: 100\n",
            "-------------- End ----------------\n",
            "test: (87841, 25)\n",
            "train: (132481, 25)\n",
            "test: (87841, 25)\n",
            "train: (132481, 25)\n",
            "test: (87841, 25)\n",
            "train: (132481, 25)\n",
            "test: (87841, 25)\n",
            "train: (132481, 25)\n",
            "======================TEST MODE======================\n",
            "/usr/local/lib/python3.10/dist-packages/torch/nn/_reduction.py:42: UserWarning: size_average and reduce args will be deprecated, please use reduction='none' instead.\n",
            "  warnings.warn(warning.format(ret))\n",
            "Threshold : 0.004289687629789114\n",
            "pred:    (87800,)\n",
            "gt:      (87800,)\n",
            "pred:  (87800,)\n",
            "gt:    (87800,)\n",
            "Accuracy : 0.9854, Precision : 0.9731, Recall : 0.9744, F-score : 0.9737 \n"
          ]
        },
        {
          "data": {
            "text/plain": []
          },
          "execution_count": 6,
          "metadata": {},
          "output_type": "execute_result"
        }
      ],
      "source": [
        "%%shell\n",
        "cd Anomaly-Transformer\n",
        "bash ./scripts/PSM.sh"
      ]
    },
    {
      "cell_type": "code",
      "execution_count": null,
      "metadata": {
        "colab": {
          "base_uri": "https://localhost:8080/"
        },
        "id": "S-I8OuRxVmfe",
        "outputId": "febc0126-7315-43e5-98d4-ca8bafdc91c7"
      },
      "outputs": [
        {
          "name": "stdout",
          "output_type": "stream",
          "text": [
            "Archive:  ./drive/MyDrive/new folder/Anomaly_Transformer/SMAP.zip\n",
            "   creating: Anomaly-Transformer/dataset/SMAP/\n",
            "  inflating: Anomaly-Transformer/dataset/SMAP/SMAP_train.npy  \n",
            "  inflating: Anomaly-Transformer/dataset/__MACOSX/SMAP/._SMAP_train.npy  \n",
            "  inflating: Anomaly-Transformer/dataset/SMAP/SMAP_test.npy  \n",
            "  inflating: Anomaly-Transformer/dataset/__MACOSX/SMAP/._SMAP_test.npy  \n",
            "  inflating: Anomaly-Transformer/dataset/SMAP/SMAP_test_label.npy  \n",
            "  inflating: Anomaly-Transformer/dataset/__MACOSX/SMAP/._SMAP_test_label.npy  \n"
          ]
        }
      ],
      "source": [
        "!unzip ./drive/MyDrive/new\\ folder/Anomaly_Transformer/SMAP.zip -d Anomaly-Transformer/dataset"
      ]
    },
    {
      "cell_type": "code",
      "execution_count": null,
      "metadata": {
        "colab": {
          "background_save": true,
          "base_uri": "https://localhost:8080/"
        },
        "id": "33_pbRCLWG0z",
        "outputId": "66f87391-341c-432f-bdfa-6341af6d0c11"
      },
      "outputs": [
        {
          "name": "stdout",
          "output_type": "stream",
          "text": [
            "------------ Options -------------\n",
            "anormly_ratio: 1.0\n",
            "batch_size: 256\n",
            "data_path: dataset/SMAP\n",
            "dataset: SMAP\n",
            "input_c: 25\n",
            "k: 3\n",
            "lr: 0.0001\n",
            "mode: train\n",
            "model_save_path: checkpoints\n",
            "num_epochs: 3\n",
            "output_c: 25\n",
            "pretrained_model: None\n",
            "win_size: 100\n",
            "-------------- End ----------------\n",
            "test: (427617, 25)\n",
            "train: (135183, 25)\n",
            "test: (427617, 25)\n",
            "train: (135183, 25)\n",
            "test: (427617, 25)\n",
            "train: (135183, 25)\n",
            "test: (427617, 25)\n",
            "train: (135183, 25)\n",
            "======================TRAIN MODE======================\n",
            "\tspeed: 0.6633s/iter; left time: 984.9938s\n",
            "\tspeed: 0.6978s/iter; left time: 966.4261s\n",
            "\tspeed: 0.6929s/iter; left time: 890.3971s\n",
            "\tspeed: 0.6951s/iter; left time: 823.7233s\n",
            "\tspeed: 0.6935s/iter; left time: 752.4165s\n",
            "Epoch: 1 cost time: 364.1102452278137\n",
            "Epoch: 1, Steps: 528 | Train Loss: -44.7822553 Vali Loss: -47.1533759 \n",
            "Validation loss decreased (inf --> -47.153376).  Saving model ...\n",
            "Updating learning rate to 0.0001\n",
            "\tspeed: 4.3244s/iter; left time: 4138.4103s\n",
            "\tspeed: 0.6932s/iter; left time: 594.0587s\n",
            "\tspeed: 0.6904s/iter; left time: 522.6229s\n",
            "\tspeed: 0.6892s/iter; left time: 452.7841s\n",
            "\tspeed: 0.6900s/iter; left time: 384.3169s\n",
            "Epoch: 2 cost time: 364.3786389827728\n",
            "Epoch: 2, Steps: 528 | Train Loss: -47.6530758 Vali Loss: -47.5902769 \n",
            "EarlyStopping counter: 1 out of 3\n",
            "Updating learning rate to 5e-05\n",
            "\tspeed: 4.3123s/iter; left time: 1849.9914s\n",
            "\tspeed: 0.6916s/iter; left time: 227.5423s\n",
            "\tspeed: 0.6892s/iter; left time: 157.8247s\n",
            "\tspeed: 0.6910s/iter; left time: 89.1401s\n",
            "\tspeed: 0.6891s/iter; left time: 19.9847s\n",
            "Epoch: 3 cost time: 363.90720891952515\n",
            "Epoch: 3, Steps: 528 | Train Loss: -47.8547068 Vali Loss: -47.6850777 \n",
            "EarlyStopping counter: 2 out of 3\n",
            "Updating learning rate to 2.5e-05\n",
            "------------ Options -------------\n",
            "anormly_ratio: 1.0\n",
            "batch_size: 256\n",
            "data_path: dataset/SMAP\n",
            "dataset: SMAP\n",
            "input_c: 25\n",
            "k: 3\n",
            "lr: 0.0001\n",
            "mode: test\n",
            "model_save_path: checkpoints\n",
            "num_epochs: 10\n",
            "output_c: 25\n",
            "pretrained_model: 20\n",
            "win_size: 100\n",
            "-------------- End ----------------\n",
            "test: (427617, 25)\n",
            "train: (135183, 25)\n",
            "test: (427617, 25)\n",
            "train: (135183, 25)\n",
            "test: (427617, 25)\n",
            "train: (135183, 25)\n",
            "test: (427617, 25)\n",
            "train: (135183, 25)\n",
            "======================TEST MODE======================\n",
            "/usr/local/lib/python3.10/dist-packages/torch/nn/_reduction.py:42: UserWarning: size_average and reduce args will be deprecated, please use reduction='none' instead.\n",
            "  warnings.warn(warning.format(ret))\n",
            "Threshold : 0.0007754993526032137\n",
            "pred:    (427600,)\n",
            "gt:      (427600,)\n",
            "pred:  (427600,)\n",
            "gt:    (427600,)\n",
            "Accuracy : 0.9906, Precision : 0.9365, Recall : 0.9943, F-score : 0.9645 \n"
          ]
        },
        {
          "data": {
            "text/plain": []
          },
          "execution_count": 12,
          "metadata": {},
          "output_type": "execute_result"
        }
      ],
      "source": [
        "%%shell\n",
        "cd Anomaly-Transformer\n",
        "bash ./scripts/SMAP.sh"
      ]
    }
  ],
  "metadata": {
    "accelerator": "GPU",
    "colab": {
      "gpuType": "T4",
      "provenance": []
    },
    "kernelspec": {
      "display_name": "Python 3",
      "name": "python3"
    },
    "language_info": {
      "name": "python"
    }
  },
  "nbformat": 4,
  "nbformat_minor": 0
}